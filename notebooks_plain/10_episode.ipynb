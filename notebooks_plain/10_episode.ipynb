{
 "cells": [
  {
   "cell_type": "markdown",
   "metadata": {
    "slideshow": {
     "slide_type": "slide"
    }
   },
   "source": [
    "# Command-Line Programs"
   ]
  },
  {
   "cell_type": "markdown",
   "metadata": {
    "slideshow": {
     "slide_type": "slide"
    }
   },
   "source": [
    "## Overview\n",
    "- **Teaching:** 15 min\n",
    "- **Exercises:** 5 min\n",
    "\n",
    "**Questions**\n",
    "- How can I write Python programs that will work like Unix command-line tools?\n",
    "\n",
    "**Objectives**\n",
    "- Use the values of command-line arguments in a program.\n",
    "- Handle flags and files separately in a command-line program.\n",
    "- Read data from standard input in a program so that it can be used in a pipeline."
   ]
  },
  {
   "cell_type": "markdown",
   "metadata": {
    "slideshow": {
     "slide_type": "slide"
    }
   },
   "source": [
    "Interactive tools such as Ipython are great for prototyping code and exploring data, but sooner or later if we want to re-use our codes, or demonstrate reproducbile workflows, we will want to use our program in a pipeline or run it in a shell script to process thousands of data files. In order to do that, we need to make our programs work like other Unix command-line tools. For example, we may want a program that reads a dataset and prints the average inflammation per patient."
   ]
  },
  {
   "cell_type": "markdown",
   "metadata": {
    "slideshow": {
     "slide_type": "subslide"
    }
   },
   "source": [
    "## Pin: Switching to Shell Commands\n",
    "In this lesson we are switching from typing commands that comprise our program in a Python interpreter to typing commands in a program file or script.  We will the run the program frim the shell terminal window (such as bash). When you see a `%` in front of a command that tells you to run that command in the shell rather than the Python interpreter."
   ]
  },
  {
   "cell_type": "markdown",
   "metadata": {
    "slideshow": {
     "slide_type": "subslide"
    }
   },
   "source": [
    "As you might now expect our first task will be to produce a program that sends a greeting to the world.\n",
    "\n",
    "Let's start by creating a new file `nano hello_world.py` and enter:\n",
    "\n",
    "```python\n",
    "#!/usr/bin/env python3\n",
    "\n",
    "print(\"Hello world!\")\n",
    "```\n",
    "\n",
    "The first line tells `bash`, that the program we have created needs to be executed through Python3.  The line of code is exactly what we ran in our first exercise.  We also have to tell the operating system that the file is a program that we want to be able to run.  If you type\n",
    "\n",
    "```bash\n",
    "% ls -l\n",
    "total 0\n",
    "-rw-r--r-- 1 rjg20 bath04 42 Nov 19 13:11 hello_world.py\n",
    "```"
   ]
  },
  {
   "cell_type": "markdown",
   "metadata": {
    "slideshow": {
     "slide_type": "slide"
    }
   },
   "source": [
    "## Information: Linux permissions\n",
    "\n",
    "This 'list' format provides additional information onthe file, telling us the owner size and the last time the file was modified.  The first column tell us about the **permissions** of the file: `-rw-r--r--`\n",
    "\n",
    "These are arranged in 4 blocks, the first is a single character which tells us if the item is a **directory** `d`, the dash indicates that our file is not a directory.  After this are three blocks of three representing the **owner** (you), **group**, and **others**.  Each block has characters for **read**, `r`, **write**, `w`, and **execute**, `x`.  As with directories the characters indicate that this permission is `True` a dash that it is `False`.  In this case, the file is not a directory, the owner has read-write access and the 'group' and others have read only access."
   ]
  },
  {
   "cell_type": "markdown",
   "metadata": {
    "slideshow": {
     "slide_type": "subslide"
    }
   },
   "source": [
    "We can change the permissions using `chmod +x hello_world.py`, to find out more about how you can use the program, run `man chmod`.  We will just allow everyone to execute the file:\n",
    "\n",
    "```bash\n",
    "% chmod +x hello_world.py\n",
    "% ls -l\n",
    "total 0\n",
    "-rwxr-xr-x 1 rjg20 bath04 42 Nov 19 13:41 hello_world.py\n",
    "```\n",
    "You may also see the colour of the file change when you run `ls -l`.\n",
    "\n",
    "You are now ready to run your program:\n",
    "\n",
    "```bash\n",
    "% ./hello_world.py\n",
    "Hello World!\n",
    "```\n",
    "\n",
    "You will notice that we haven't just run the program `hello_world.py` we have prefixed it with `./`.  Linux has special locations which are used to look for programs that you run in the shell.  Since it doesn't know that the current directory has a program you want to run we have to explicitly tell it to look in the current directory.  If you recall `.` means current working directory in linux so `./my_file` means a file in the current directory."
   ]
  },
  {
   "cell_type": "markdown",
   "metadata": {
    "slideshow": {
     "slide_type": "subslide"
    }
   },
   "source": [
    "## Passing arguments from the command line\n",
    "\n",
    "Often we will want to pass information into the program from the command line.  Fortunately Python has a standard library that allows us to do this.  Copy your `hello_world.py` program to a new file `hello.py` and edit the file with `nano hello.py` as follows:\n",
    "\n",
    "```python\n",
    "#!/usr/bin/envpython3\n",
    "\n",
    "import sys\n",
    "\n",
    "print(\"Hello\",sys.argv)\n",
    "```\n",
    "\n",
    "If we run our new program with the argument, `James` we should see the following output:\n",
    "```bash\n",
    "% ./hello.py James\n",
    "Hello ['./hello.py', 'James']\n",
    "```"
   ]
  },
  {
   "cell_type": "markdown",
   "metadata": {
    "slideshow": {
     "slide_type": "slide"
    }
   },
   "source": [
    "`sys.argv` means system **arg**ument **v**alues.  The first argument is the name of the program and the full set of values are presented as a list, we don't want to say hello to the name of the program, and generally we will want to ignore this argument so let's modify our program to just consider the rest of the list:\n",
    "\n",
    "```python\n",
    "#!/usr/bin/env python3\n",
    "\n",
    "import sys\n",
    "\n",
    "names = sys.argv[1:]\n",
    "\n",
    "for name in names:\n",
    "    print(\"Hello\",name)\n",
    "```"
   ]
  },
  {
   "cell_type": "markdown",
   "metadata": {
    "slideshow": {
     "slide_type": "slide"
    }
   },
   "source": [
    "We can now re-run our new program with the same command as before:\n",
    "\n",
    "```bash\n",
    "%  ./hello.py James\n",
    "Hello James\n",
    "```\n",
    "\n",
    "Because we have generalised the program to operate on all arguments passed to it we can also run\n",
    "\n",
    "```bash\n",
    "% ./hello.py Alan Bob Carl Dave\n",
    "Hello Alan\n",
    "Hello Bob\n",
    "Hello Carl\n",
    "Hello Dave\n",
    "```\n",
    "\n",
    "so we already have a way to generalise the script to perform the same task on a number of arguments."
   ]
  },
  {
   "cell_type": "markdown",
   "metadata": {
    "slideshow": {
     "slide_type": "slide"
    }
   },
   "source": [
    "## Pin: What would the following do?\n",
    "\n",
    "```bash\n",
    "% ./hello.py ../*\n",
    "```\n",
    "\n",
    "Remember that in bash `*` represents the wildcard match any characters of any length."
   ]
  },
  {
   "cell_type": "markdown",
   "metadata": {
    "slideshow": {
     "slide_type": "slide"
    }
   },
   "source": [
    "We will next make some small changes to our program to encapsulate the main part of the our program in its own function, and then tell Python that this is what it should run we the program is executed:\n",
    "\n",
    "```python\n",
    "#!/usr/bin/env python3\n",
    "import sys\n",
    "\n",
    "def main():\n",
    "    '''\n",
    "    We can also add a docstring to remind our future selves that this program:\n",
    "    \n",
    "    Takes a list of arguments and say hello to each of them.\n",
    "    '''\n",
    "    \n",
    "    names = sys.argv[1:]\n",
    "\n",
    "    for name in names:\n",
    "        print(\"Hello\",name)\n",
    "\n",
    "if __name__ == '__main__':\n",
    "   main()\n",
    "```\n",
    "\n",
    "Run your program with the same arguments as before to check that you have not change its behaviour.  Note that we can also add a 'docstring' to our `main` function to explain what it does."
   ]
  },
  {
   "cell_type": "markdown",
   "metadata": {
    "slideshow": {
     "slide_type": "subslide"
    }
   },
   "source": [
    "## Information: Running versus Importing\n",
    "\n",
    "If the program behaves in the same why have we changed it in this way? The reason is that running a Python script in bash is very similar to importing that file in Python. The biggest difference is that we don’t expect anything to happen when we import a file, whereas when running a script, we expect to see some output printed to the console.\n",
    "\n",
    "In order for a Python script to work as expected when imported or when run as a script, we typically put the part of the script that produces output in the following if statement:\n",
    "\n",
    "```python\n",
    "if __name__ == '__main__':\n",
    "    main()  # Or whatever function produces output\n",
    "```\n",
    "\n",
    "When you `import` a Python file, `__name__` is a special variable which holds the name of that file (e.g., when importing `readings.py`, `__name__` is `'readings'`). However, when running a script in bash, `__name__` is always set to `'__main__'` in that script so that you can determine if the file is being imported or run as a script.\n",
    "\n",
    "By adopting the practice of encapsulating the script part of our code in a `main` function we are making sure that we can safely `import` our code in other programs to safely reuse the fantastic functions we write."
   ]
  },
  {
   "cell_type": "markdown",
   "metadata": {
    "slideshow": {
     "slide_type": "subslide"
    }
   },
   "source": [
    "## Pen: The Right Way to Do It\n",
    "If our programs can take complex parameters or multiple filenames, we shouldn’t handle `sys.argv` directly. Instead, we should use Python’s `argparse` library, which handles common cases in a systematic way, and also makes it easy for us to provide sensible error messages for our users. We will not cover this module in this lesson but you can go to Tshepang Lekhonkhobe’s [Argparse tutorial](http://docs.python.org/dev/howto/argparse.html) that is part of Python’s Official Documentation."
   ]
  },
  {
   "cell_type": "markdown",
   "metadata": {
    "slideshow": {
     "slide_type": "slide"
    }
   },
   "source": [
    "The [Software Carpentry material](http://swcarpentry.github.io/python-novice-inflammation/10-cmdline/index.html) that this is episode is based on makes use of the 'code' files you downloaded at the beginning of the episode.  If you wish to explore these files further you are encouraged to do so as these also explore some of the functionality of the `numpy` library.  Note that they take a slightly different to run their programs from the way we have looked at.\n",
    "\n",
    "\n",
    "We will instead explore an example that builds on what we did in the preceding episode more directly."
   ]
  },
  {
   "cell_type": "markdown",
   "metadata": {
    "slideshow": {
     "slide_type": "slide"
    }
   },
   "source": [
    "Let's say we want to find the mean inflamation of each of the patients in the inflammation data we read in during the previous lesson.\n",
    "\n",
    "First copy our template `hello.py` to `inflammation_mean.py`. Open `inflammation_mean.py` and edit it as follows:\n",
    "```python\n",
    "#!/usr/bin/env python3\n",
    "import sys\n",
    "\n",
    "def main():\n",
    "    '''\n",
    "    We can also add a docstring to remind our future selves that this program:\n",
    "    \n",
    "    Takes a list of files, and find and print the mean of each line of data:\n",
    "    '''\n",
    "    \n",
    "    filenames = sys.argv[1:]\n",
    "\n",
    "    for filename in filenames:\n",
    "        data = read_csv_to_floats(filename)\n",
    "        count=0\n",
    "        for line in data:\n",
    "            count += 1\n",
    "            print(\"File: \", filename, \"patient: \", count, \"average inflammation\", mean(line))\n",
    "\n",
    "if __name__ == '__main__':\n",
    "   main()\n",
    "```"
   ]
  },
  {
   "cell_type": "markdown",
   "metadata": {
    "slideshow": {
     "slide_type": "slide"
    }
   },
   "source": [
    "We will now add the solution to the second exercise at the end of the last episode to our new program between `import sys` and `def main():`\n",
    "\n",
    "```python\n",
    "def read_csv_to_floats(filename):\n",
    "    '''\n",
    "    Take string parameters as csv filename\n",
    "    Read in and process file, converting all elements to floats.\n",
    "\n",
    "    Return as 2D list (list of lists)\n",
    "    '''\n",
    "\n",
    "    with open(filename) as file:\n",
    "        data_string = file.readlines()\n",
    "    data_floats = []\n",
    "    for line in data_string:\n",
    "        tmp_floats = []\n",
    "        tmp_list = line.split(',')\n",
    "        for item in tmp_list:\n",
    "            tmp_floats.append( float(item) )\n",
    "        data_floats.append(tmp_floats)\n",
    "    return data_floats\n",
    "```"
   ]
  },
  {
   "cell_type": "markdown",
   "metadata": {
    "slideshow": {
     "slide_type": "slide"
    }
   },
   "source": [
    "Now we need to add the `mean(sample)` function that we considered in episode 7, add this between `read_csv_to_floats()` and `main`:\n",
    "```python\n",
    "def mean(sample):\n",
    "    '''\n",
    "    Takes a list of numbers, sample\n",
    "    \n",
    "    and returns the mean.\n",
    "    '''\n",
    "    sample_sum = 0\n",
    "    for value in sample:\n",
    "        sample_sum += value\n",
    "\n",
    "    sample_mean = sample_sum / len(sample)\n",
    "    return sample_mean\n",
    "```"
   ]
  },
  {
   "cell_type": "markdown",
   "metadata": {
    "slideshow": {
     "slide_type": "subslide"
    }
   },
   "source": [
    "No run your program with:\n",
    "\n",
    "```bash\n",
    "% ./inflammation_mean.py ../inflammation-01.csv\n",
    "```\n",
    "\n",
    "Your output should look something like:\n",
    "\n",
    "```brainfuck\n",
    "File:  ../inflammation-01.csv patient:  1 average inflammation 5.45\n",
    "File:  ../inflammation-01.csv patient:  2 average inflammation 5.425\n",
    "File:  ../inflammation-01.csv patient:  3 average inflammation 6.1\n",
    "File:  ../inflammation-01.csv patient:  4 average inflammation 5.9\n",
    "File:  ../inflammation-01.csv patient:  5 average inflammation 5.55\n",
    "File:  ../inflammation-01.csv patient:  6 average inflammation 6.225\n",
    "File:  ../inflammation-01.csv patient:  7 average inflammation 5.975\n",
    "File:  ../inflammation-01.csv patient:  8 average inflammation 6.65\n",
    "File:  ../inflammation-01.csv patient:  9 average inflammation 6.625\n",
    "File:  ../inflammation-01.csv patient:  10 average inflammation 6.525\n",
    "File:  ../inflammation-01.csv patient:  11 average inflammation 6.775\n",
    "File:  ../inflammation-01.csv patient:  12 average inflammation 5.8\n",
    "File:  ../inflammation-01.csv patient:  13 average inflammation 6.225\n",
    "File:  ../inflammation-01.csv patient:  14 average inflammation 5.75\n",
    "File:  ../inflammation-01.csv patient:  15 average inflammation 5.225\n",
    "File:  ../inflammation-01.csv patient:  16 average inflammation 6.3\n",
    "File:  ../inflammation-01.csv patient:  17 average inflammation 6.55\n",
    "File:  ../inflammation-01.csv patient:  18 average inflammation 5.7\n",
    "File:  ../inflammation-01.csv patient:  19 average inflammation 5.85\n",
    "File:  ../inflammation-01.csv patient:  20 average inflammation 6.55\n",
    "File:  ../inflammation-01.csv patient:  21 average inflammation 5.775\n",
    "File:  ../inflammation-01.csv patient:  22 average inflammation 5.825\n",
    "File:  ../inflammation-01.csv patient:  23 average inflammation 6.175\n",
    "File:  ../inflammation-01.csv patient:  24 average inflammation 6.1\n",
    "File:  ../inflammation-01.csv patient:  25 average inflammation 5.8\n",
    "File:  ../inflammation-01.csv patient:  26 average inflammation 6.425\n",
    "File:  ../inflammation-01.csv patient:  27 average inflammation 6.05\n",
    "File:  ../inflammation-01.csv patient:  28 average inflammation 6.025\n",
    "File:  ../inflammation-01.csv patient:  29 average inflammation 6.175\n",
    "File:  ../inflammation-01.csv patient:  30 average inflammation 6.55\n",
    "File:  ../inflammation-01.csv patient:  31 average inflammation 6.175\n",
    "File:  ../inflammation-01.csv patient:  32 average inflammation 6.35\n",
    "File:  ../inflammation-01.csv patient:  33 average inflammation 6.725\n",
    "File:  ../inflammation-01.csv patient:  34 average inflammation 6.125\n",
    "File:  ../inflammation-01.csv patient:  35 average inflammation 7.075\n",
    "File:  ../inflammation-01.csv patient:  36 average inflammation 5.725\n",
    "File:  ../inflammation-01.csv patient:  37 average inflammation 5.925\n",
    "File:  ../inflammation-01.csv patient:  38 average inflammation 6.15\n",
    "File:  ../inflammation-01.csv patient:  39 average inflammation 6.075\n",
    "File:  ../inflammation-01.csv patient:  40 average inflammation 5.75\n",
    "File:  ../inflammation-01.csv patient:  41 average inflammation 5.975\n",
    "File:  ../inflammation-01.csv patient:  42 average inflammation 5.725\n",
    "File:  ../inflammation-01.csv patient:  43 average inflammation 6.3\n",
    "File:  ../inflammation-01.csv patient:  44 average inflammation 5.9\n",
    "File:  ../inflammation-01.csv patient:  45 average inflammation 6.75\n",
    "File:  ../inflammation-01.csv patient:  46 average inflammation 5.925\n",
    "File:  ../inflammation-01.csv patient:  47 average inflammation 7.225\n",
    "File:  ../inflammation-01.csv patient:  48 average inflammation 6.15\n",
    "File:  ../inflammation-01.csv patient:  49 average inflammation 5.95\n",
    "File:  ../inflammation-01.csv patient:  50 average inflammation 6.275\n",
    "File:  ../inflammation-01.csv patient:  51 average inflammation 5.7\n",
    "File:  ../inflammation-01.csv patient:  52 average inflammation 6.1\n",
    "File:  ../inflammation-01.csv patient:  53 average inflammation 6.825\n",
    "File:  ../inflammation-01.csv patient:  54 average inflammation 5.975\n",
    "File:  ../inflammation-01.csv patient:  55 average inflammation 6.725\n",
    "File:  ../inflammation-01.csv patient:  56 average inflammation 5.7\n",
    "File:  ../inflammation-01.csv patient:  57 average inflammation 6.25\n",
    "File:  ../inflammation-01.csv patient:  58 average inflammation 6.4\n",
    "File:  ../inflammation-01.csv patient:  59 average inflammation 7.05\n",
    "File:  ../inflammation-01.csv patient:  60 average inflammation 5.9\n",
    "```"
   ]
  },
  {
   "cell_type": "markdown",
   "metadata": {
    "slideshow": {
     "slide_type": "slide"
    }
   },
   "source": [
    "We can also run our program with all the inflammation data:\n",
    "\n",
    "```bash\n",
    "% ./inflammation_mean.py ../inflammation-*.csv\n",
    "```"
   ]
  },
  {
   "cell_type": "markdown",
   "metadata": {
    "slideshow": {
     "slide_type": "subslide"
    }
   },
   "source": [
    "We may also want to output our data to a file.  In order to do this modify your `main` function as follows:\n",
    "```python\n",
    "def main():\n",
    "    '''\n",
    "    We can also add a docstring to remind our future selves that this program:\n",
    "\n",
    "    Takes a list of files, and find and print the mean of each line of data:\n",
    "    '''\n",
    "\n",
    "    filenames = sys.argv[1:]\n",
    "\n",
    "    output_filename = \"my_data.txt\"\n",
    "\n",
    "    output_file = open(output_filename, 'w')\n",
    "\n",
    "    for filename in filenames:\n",
    "        data = read_csv_to_floats(filename)\n",
    "        count=0\n",
    "        for line in data:\n",
    "            count += 1\n",
    "            output_file.write(\"File: \"+filename+\"patient: \"+str(count)+\"average inflammation: \"+str(mean(line))+\"\\n\")\n",
    "    output_file.close()\n",
    "```\n"
   ]
  },
  {
   "cell_type": "markdown",
   "metadata": {
    "slideshow": {
     "slide_type": "slide"
    }
   },
   "source": [
    "Note that we as with reading from files we have to `open` and `close` the file.  Also the function `file.write()` can only take a single str as its parameter, so the `write` line is a little different to our `print` statement before, we also have to add a explicit new line at the end of the line which is the reason for the `\"\\n\"`.\n",
    "\n",
    "Run your program and `cat` the file `my_data.txt` to verify that it has worked as intended."
   ]
  },
  {
   "cell_type": "markdown",
   "metadata": {
    "slideshow": {
     "slide_type": "subslide"
    }
   },
   "source": [
    "## Exercise: Arithmetic on the Command Line\n",
    "Write a command-line program that does addition and subtraction:\n",
    "```bash\n",
    "% python arith.py add 1 2\n",
    "3\n",
    "% python arith.py subtract 3 4\n",
    "-1\n",
    "```"
   ]
  },
  {
   "cell_type": "markdown",
   "metadata": {
    "slideshow": {
     "slide_type": "subslide"
    }
   },
   "source": [
    "## Solution: Arithmetic on the Command Line\n",
    "\n",
    "```python\n",
    "import sys\n",
    "\n",
    "\n",
    "def do_arithmetic(operand1, operator, operand2):\n",
    "\n",
    "    if operator == 'add':\n",
    "        value = operand1 + operand2\n",
    "    elif operator == 'subtract':\n",
    "        value = operand1 - operand2\n",
    "    elif operator == 'multiply':\n",
    "        value = operand1 * operand2\n",
    "    elif operator == 'divide':\n",
    "        value = operand1 / operand2\n",
    "    print(value)\n",
    "\n",
    "def main():\n",
    "    assert len(sys.argv) == 4, 'Need exactly 3 arguments'\n",
    "\n",
    "    operator = sys.argv[1]\n",
    "    assert operator in ['add', 'subtract', 'multiply', 'divide'], \\\n",
    "        'Operator is not one of add, subtract, multiply, or divide: bailing out'\n",
    "    try:\n",
    "        operand1, operand2 = float(sys.argv[2]), float(sys.argv[3])\n",
    "    except ValueError:\n",
    "        print('cannot convert input to a number: bailing out')\n",
    "        return\n",
    "\n",
    "    do_arithmetic(operand1, operator, operand2)\n",
    "\n",
    "if __name__ == '__main__':\n",
    "   main()\n",
    "```\n",
    "\n",
    "Check that your solution works by trying the different componenets and a few different values."
   ]
  },
  {
   "cell_type": "markdown",
   "metadata": {
    "slideshow": {
     "slide_type": "subslide"
    }
   },
   "source": [
    "## Exercise: Counting Lines\n",
    "\n",
    "By `modifyinginflammation_mean.py` or otherwise, write a program called `line_count.py` that works like the Unix wc command:\n",
    "\n",
    "If no filenames are given inform the user to provide a filename(s).\n",
    "If one or more filenames are given, it reports the number of lines in each, followed by the total number of lines."
   ]
  },
  {
   "cell_type": "markdown",
   "metadata": {},
   "source": [
    "## Solution: Couting Lines\n",
    "\n",
    "```python\n",
    "#!/usr/bin/env python3\n",
    "import sys\n",
    "\n",
    "def main():\n",
    "    '''print each input filename and the number of lines in it,\n",
    "       and print the sum of the number of lines'''\n",
    "    filenames = sys.argv[1:]\n",
    "    sum_nlines = 0 #initialize counting variable\n",
    "\n",
    "    if len(filenames) == 0: # no filenames, advise usage\n",
    "        print(\"Please provide filenames in order to count number of lines\")\n",
    "    else:\n",
    "        for f in filenames:\n",
    "            n = count_file(f)\n",
    "            print('%s %d' % (f, n))\n",
    "            sum_nlines += n\n",
    "        print('total: %d' % sum_nlines)\n",
    "\n",
    "def count_file(filename):\n",
    "    '''count the number of lines in a file'''\n",
    "    f = open(filename,'r')\n",
    "    nlines = len(f.readlines())\n",
    "    f.close()\n",
    "    return(nlines)\n",
    "\n",
    "if __name__ == '__main__':\n",
    "   main()\n",
    "```\n",
    "If you have used inflammatio_mean.py as the basis for this program then you will have a very different solution."
   ]
  },
  {
   "cell_type": "markdown",
   "metadata": {
    "slideshow": {
     "slide_type": "slide"
    }
   },
   "source": [
    "## Key Points\n",
    "- The `sys` library connects a Python program to the system it is running on.\n",
    "- The list `sys.argv` contains the command-line arguments that a program was run with.\n",
    "- Avoid silent failures, try to inform your user what is going on."
   ]
  }
 ],
 "metadata": {
  "celltoolbar": "Slideshow",
  "kernelspec": {
   "display_name": "Python 3",
   "language": "python",
   "name": "python3"
  },
  "language_info": {
   "codemirror_mode": {
    "name": "ipython",
    "version": 3
   },
   "file_extension": ".py",
   "mimetype": "text/x-python",
   "name": "python",
   "nbconvert_exporter": "python",
   "pygments_lexer": "ipython3",
   "version": "3.7.1"
  }
 },
 "nbformat": 4,
 "nbformat_minor": 2
}
